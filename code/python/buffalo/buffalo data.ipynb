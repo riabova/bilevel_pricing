{
 "cells": [
  {
   "cell_type": "code",
   "execution_count": 1,
   "metadata": {},
   "outputs": [],
   "source": [
    "#import requests\n",
    "#import json\n",
    "import pandas as pd\n",
    "import numpy as np\n",
    "import folium\n",
    "import matplotlib.pyplot as plt\n",
    "import RouteBuilder\n",
    "from IPython.core.display import display, HTML\n",
    "%matplotlib inline"
   ]
  },
  {
   "cell_type": "markdown",
   "metadata": {},
   "source": [
    "## Data"
   ]
  },
  {
   "cell_type": "code",
   "execution_count": 2,
   "metadata": {},
   "outputs": [],
   "source": [
    "stores = pd.read_csv(\"D:\\\\Study\\\\Ph.D\\\\Projects\\\\Bilevel Optimization\\\\data\\\\Buffalo\\\\ups_coords.txt\", names=[\"lat\", \"lon\"])\n",
    "custs = pd.read_csv(\"D:\\\\Study\\\\Ph.D\\\\Projects\\\\Bilevel Optimization\\\\data\\\\Buffalo\\\\cust_coords.txt\", names=[\"lat\", \"lon\"])"
   ]
  },
  {
   "cell_type": "code",
   "execution_count": 4,
   "metadata": {},
   "outputs": [
    {
     "data": {
      "text/plain": [
       "lat    42.985778\n",
       "lon   -78.869874\n",
       "Name: 0, dtype: float64"
      ]
     },
     "execution_count": 4,
     "metadata": {},
     "output_type": "execute_result"
    }
   ],
   "source": [
    "stores.iloc[0]"
   ]
  },
  {
   "cell_type": "code",
   "execution_count": 15,
   "metadata": {},
   "outputs": [
    {
     "data": {
      "text/plain": [
       "18"
      ]
     },
     "execution_count": 15,
     "metadata": {},
     "output_type": "execute_result"
    }
   ],
   "source": [
    "len(stores)"
   ]
  },
  {
   "cell_type": "code",
   "execution_count": 17,
   "metadata": {},
   "outputs": [
    {
     "data": {
      "text/plain": [
       "63"
      ]
     },
     "execution_count": 17,
     "metadata": {},
     "output_type": "execute_result"
    }
   ],
   "source": [
    "len(custs)"
   ]
  },
  {
   "cell_type": "markdown",
   "metadata": {},
   "source": [
    "## Plots"
   ]
  },
  {
   "cell_type": "code",
   "execution_count": null,
   "metadata": {},
   "outputs": [],
   "source": [
    "m = folium.Map(location=(42.93, -78.79), zoom_start=11, tiles=None)\n",
    "base_map = folium.FeatureGroup(name='Basemap', overlay=True, control=False)\n",
    "folium.TileLayer(tiles='OpenStreetMap').add_to(base_map)\n",
    "base_map.add_to(m)\n",
    "fg = folium.FeatureGroup(name=\"stores\", overlay=False, show=False)\n",
    "for i in range(len(stores)):\n",
    "    folium.CircleMarker(location=tuple(stores.iloc[i]), color=\"red\", radius=4).add_to(fg)\n",
    "fg.add_to(m)\n",
    "fg1 = folium.FeatureGroup(name=\"stores\", overlay=False, show=False)\n",
    "for i in range(len(custs)):\n",
    "    folium.CircleMarker(location=tuple(custs.iloc[i]), color=\"orange\", radius=3.5).add_to(fg1)\n",
    "fg1.add_to(m)\n",
    "m"
   ]
  },
  {
   "cell_type": "markdown",
   "metadata": {},
   "source": [
    "## Routing distance"
   ]
  },
  {
   "cell_type": "code",
   "execution_count": 22,
   "metadata": {},
   "outputs": [],
   "source": [
    "rb = RouteBuilder.RouteBuilder()\n",
    "ss_dists_lst = []\n",
    "for i in range(len(stores)):\n",
    "    ss_dists_lst.append([])\n",
    "    for j in range(i):\n",
    "        ss_dists_lst[i].append(rb.makeRequest1(stores.iloc[i], stores.iloc[j]))"
   ]
  },
  {
   "cell_type": "code",
   "execution_count": 29,
   "metadata": {},
   "outputs": [],
   "source": [
    "with open(\"D:\\\\Study\\\\Ph.D\\\\Projects\\\\Bilevel Optimization\\\\data\\\\Buffalo\\\\ss_dists.txt\", 'w') as f:\n",
    "    for x in ss_dists_lst:\n",
    "        f.write(' '.join([str(y) for y in x]) + \"\\n\")"
   ]
  },
  {
   "cell_type": "code",
   "execution_count": 3,
   "metadata": {},
   "outputs": [],
   "source": [
    "rb = RouteBuilder.RouteBuilder()\n",
    "cc_dists_lst = []\n",
    "for i in range(len(custs)):\n",
    "    cc_dists_lst.append([])\n",
    "    for j in range(i):\n",
    "        cc_dists_lst[i].append(rb.makeRequest1(custs.iloc[i], custs.iloc[j]))"
   ]
  },
  {
   "cell_type": "code",
   "execution_count": 5,
   "metadata": {},
   "outputs": [],
   "source": [
    "with open(\"D:\\\\Study\\\\Ph.D\\\\Projects\\\\Bilevel Optimization\\\\data\\\\Buffalo\\\\cc_dists.txt\", 'w') as f:\n",
    "    for x in cc_dists_lst:\n",
    "        f.write(' '.join([str(y) for y in x]) + \"\\n\")"
   ]
  },
  {
   "cell_type": "code",
   "execution_count": 6,
   "metadata": {},
   "outputs": [],
   "source": [
    "rb = RouteBuilder.RouteBuilder()\n",
    "sc_dists_lst = []\n",
    "for i in range(len(stores)):\n",
    "    sc_dists_lst.append([])\n",
    "    for j in range(len(custs)):\n",
    "        sc_dists_lst[i].append(rb.makeRequest1(stores.iloc[i], custs.iloc[j]))"
   ]
  },
  {
   "cell_type": "code",
   "execution_count": 7,
   "metadata": {},
   "outputs": [],
   "source": [
    "with open(\"D:\\\\Study\\\\Ph.D\\\\Projects\\\\Bilevel Optimization\\\\data\\\\Buffalo\\\\sc_dists.txt\", 'w') as f:\n",
    "    for x in sc_dists_lst:\n",
    "        f.write(' '.join([str(y) for y in x]) + \"\\n\")"
   ]
  },
  {
   "cell_type": "code",
   "execution_count": null,
   "metadata": {},
   "outputs": [],
   "source": []
  }
 ],
 "metadata": {
  "kernelspec": {
   "display_name": "Python 3.9.5 64-bit",
   "language": "python",
   "name": "python3"
  },
  "language_info": {
   "codemirror_mode": {
    "name": "ipython",
    "version": 3
   },
   "file_extension": ".py",
   "mimetype": "text/x-python",
   "name": "python",
   "nbconvert_exporter": "python",
   "pygments_lexer": "ipython3",
   "version": "3.9.5 (tags/v3.9.5:0a7dcbd, May  3 2021, 17:27:52) [MSC v.1928 64 bit (AMD64)]"
  },
  "orig_nbformat": 4,
  "vscode": {
   "interpreter": {
    "hash": "4fbfea1dd5a17f80dff8df3ba641602c59e31ce1a55b82aea18e6894ff3c71a7"
   }
  }
 },
 "nbformat": 4,
 "nbformat_minor": 2
}
